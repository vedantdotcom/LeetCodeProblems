{
 "cells": [
  {
   "cell_type": "code",
   "execution_count": 59,
   "id": "1da61aeb-1615-49b8-abeb-eb28c2eddd69",
   "metadata": {
    "tags": []
   },
   "outputs": [
    {
     "name": "stdout",
     "output_type": "stream",
     "text": [
      "2\n"
     ]
    }
   ],
   "source": [
    "nums = [3, 2, 2, 3]\n",
    "val = 3\n",
    "nums1 = [x for x in nums if x != val]\n",
    "print(len(nums1))"
   ]
  },
  {
   "cell_type": "code",
   "execution_count": 54,
   "id": "69ef4d26-d034-4202-a15a-645250a0cbf9",
   "metadata": {
    "tags": []
   },
   "outputs": [],
   "source": [
    "nums.remove(val)"
   ]
  },
  {
   "cell_type": "code",
   "execution_count": 56,
   "id": "5aca9e9d-40f1-4596-9388-c9f08dc950a3",
   "metadata": {
    "tags": []
   },
   "outputs": [
    {
     "data": {
      "text/plain": [
       "4"
      ]
     },
     "execution_count": 56,
     "metadata": {},
     "output_type": "execute_result"
    }
   ],
   "source": [
    "len(nums)"
   ]
  }
 ],
 "metadata": {
  "kernelspec": {
   "display_name": "Python 3",
   "language": "python",
   "name": "python3"
  },
  "language_info": {
   "codemirror_mode": {
    "name": "ipython",
    "version": 3
   },
   "file_extension": ".py",
   "mimetype": "text/x-python",
   "name": "python",
   "nbconvert_exporter": "python",
   "pygments_lexer": "ipython3",
   "version": "3.8.8"
  }
 },
 "nbformat": 4,
 "nbformat_minor": 5
}
