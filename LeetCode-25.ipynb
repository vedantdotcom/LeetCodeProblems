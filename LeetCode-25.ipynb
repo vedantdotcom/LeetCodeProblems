{
 "cells": [
  {
   "cell_type": "code",
   "execution_count": 128,
   "id": "579afd75-638e-404d-b616-55713e21ac50",
   "metadata": {
    "tags": []
   },
   "outputs": [],
   "source": [
    "def countOdds(low:int, high:int) -> int:\n",
    "    z = (high - low)/2\n",
    "    z = z + ((low / 2) - int(low / 2))\n",
    "    z = z + ((high / 2) - int(high / 2))\n",
    "    return (z)\n",
    "\n",
    "    "
   ]
  },
  {
   "cell_type": "code",
   "execution_count": 129,
   "id": "1cda94b9-4a1f-4873-b6cd-e449e43b2217",
   "metadata": {
    "tags": []
   },
   "outputs": [
    {
     "data": {
      "text/plain": [
       "4.0"
      ]
     },
     "execution_count": 129,
     "metadata": {},
     "output_type": "execute_result"
    }
   ],
   "source": [
    "countOdds(2,10)"
   ]
  },
  {
   "cell_type": "code",
   "execution_count": 130,
   "id": "1f588c2d-eeee-47ce-8d04-330c28506b51",
   "metadata": {
    "tags": []
   },
   "outputs": [
    {
     "data": {
      "text/plain": [
       "4.0"
      ]
     },
     "execution_count": 130,
     "metadata": {},
     "output_type": "execute_result"
    }
   ],
   "source": [
    "countOdds(3,10)"
   ]
  },
  {
   "cell_type": "code",
   "execution_count": 131,
   "id": "17b1ca92-9dd5-4857-9df6-df54ddb870ce",
   "metadata": {
    "tags": []
   },
   "outputs": [
    {
     "data": {
      "text/plain": [
       "4.0"
      ]
     },
     "execution_count": 131,
     "metadata": {},
     "output_type": "execute_result"
    }
   ],
   "source": [
    "countOdds(2,9)"
   ]
  },
  {
   "cell_type": "code",
   "execution_count": 132,
   "id": "f19f940b-2c44-4a2a-bf46-9268977dee9a",
   "metadata": {
    "tags": []
   },
   "outputs": [
    {
     "data": {
      "text/plain": [
       "4.0"
      ]
     },
     "execution_count": 132,
     "metadata": {},
     "output_type": "execute_result"
    }
   ],
   "source": [
    "countOdds(3,9)"
   ]
  }
 ],
 "metadata": {
  "kernelspec": {
   "display_name": "Python 3",
   "language": "python",
   "name": "python3"
  },
  "language_info": {
   "codemirror_mode": {
    "name": "ipython",
    "version": 3
   },
   "file_extension": ".py",
   "mimetype": "text/x-python",
   "name": "python",
   "nbconvert_exporter": "python",
   "pygments_lexer": "ipython3",
   "version": "3.8.8"
  }
 },
 "nbformat": 4,
 "nbformat_minor": 5
}
