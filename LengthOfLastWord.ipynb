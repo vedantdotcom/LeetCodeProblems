{
 "cells": [
  {
   "cell_type": "markdown",
   "id": "d3194e38-c377-44f4-9578-3cb810a4e536",
   "metadata": {},
   "source": [
    "https://leetcode.com/problems/length-of-last-word"
   ]
  },
  {
   "cell_type": "code",
   "execution_count": 75,
   "id": "71e4d18a-f467-451a-b15c-d7fda685ecc4",
   "metadata": {
    "tags": []
   },
   "outputs": [
    {
     "data": {
      "text/plain": [
       "['fly', 'me', 'to', 'the', 'moon']"
      ]
     },
     "execution_count": 75,
     "metadata": {},
     "output_type": "execute_result"
    }
   ],
   "source": [
    "s = s.split(\" \")\n",
    "while(\"\" in s):\n",
    "    s.remove(\"\")\n",
    "print(len(s[-1]))\n"
   ]
  }
 ],
 "metadata": {
  "kernelspec": {
   "display_name": "Python 3",
   "language": "python",
   "name": "python3"
  },
  "language_info": {
   "codemirror_mode": {
    "name": "ipython",
    "version": 3
   },
   "file_extension": ".py",
   "mimetype": "text/x-python",
   "name": "python",
   "nbconvert_exporter": "python",
   "pygments_lexer": "ipython3",
   "version": "3.8.8"
  }
 },
 "nbformat": 4,
 "nbformat_minor": 5
}
