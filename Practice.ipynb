{
 "cells": [
  {
   "cell_type": "code",
   "execution_count": 1,
   "id": "5a22d607-02ce-415b-9de5-fd333e7c2055",
   "metadata": {
    "tags": []
   },
   "outputs": [],
   "source": [
    "class Solution(object):\n",
    "    def isPalindrome(self,x):\n",
    "        s=string(x)"
   ]
  },
  {
   "cell_type": "code",
   "execution_count": 49,
   "id": "ebe3e0ed-dd1a-40da-a049-a8b1f4a93313",
   "metadata": {
    "tags": []
   },
   "outputs": [],
   "source": [
    "x=-123"
   ]
  },
  {
   "cell_type": "code",
   "execution_count": 50,
   "id": "5e961806-034e-4571-bc58-951c9ed3469c",
   "metadata": {
    "tags": []
   },
   "outputs": [],
   "source": [
    "s=str(x)"
   ]
  },
  {
   "cell_type": "code",
   "execution_count": 51,
   "id": "545b3c38-0194-4f81-88da-f8ed30dae884",
   "metadata": {
    "tags": []
   },
   "outputs": [],
   "source": [
    "#Going forwrads..."
   ]
  },
  {
   "cell_type": "code",
   "execution_count": 52,
   "id": "a497e6cb-1e9e-428a-98f9-d688ad8dc52b",
   "metadata": {
    "tags": []
   },
   "outputs": [
    {
     "data": {
      "text/plain": [
       "'-'"
      ]
     },
     "execution_count": 52,
     "metadata": {},
     "output_type": "execute_result"
    }
   ],
   "source": [
    "s[0]"
   ]
  },
  {
   "cell_type": "code",
   "execution_count": 53,
   "id": "aa00d88b-b04a-41bc-b97a-6aff37621f69",
   "metadata": {
    "tags": []
   },
   "outputs": [
    {
     "data": {
      "text/plain": [
       "'1'"
      ]
     },
     "execution_count": 53,
     "metadata": {},
     "output_type": "execute_result"
    }
   ],
   "source": [
    "s[1]"
   ]
  },
  {
   "cell_type": "code",
   "execution_count": 54,
   "id": "727b6f02-f825-4c0a-bfba-c7462b4e57d8",
   "metadata": {
    "tags": []
   },
   "outputs": [
    {
     "data": {
      "text/plain": [
       "'2'"
      ]
     },
     "execution_count": 54,
     "metadata": {},
     "output_type": "execute_result"
    }
   ],
   "source": [
    "s[2]"
   ]
  },
  {
   "cell_type": "code",
   "execution_count": 55,
   "id": "1cfc0348-1158-4f59-99e1-ccae13d0a770",
   "metadata": {
    "tags": []
   },
   "outputs": [],
   "source": [
    "#Going backwards..."
   ]
  },
  {
   "cell_type": "code",
   "execution_count": 56,
   "id": "56cab83a-4d58-46d2-9a81-15c18f4df3d3",
   "metadata": {
    "tags": []
   },
   "outputs": [
    {
     "data": {
      "text/plain": [
       "'3'"
      ]
     },
     "execution_count": 56,
     "metadata": {},
     "output_type": "execute_result"
    }
   ],
   "source": [
    "s[-1]"
   ]
  },
  {
   "cell_type": "code",
   "execution_count": 57,
   "id": "3b96d61d-85cb-4241-9b47-732095fe675e",
   "metadata": {
    "tags": []
   },
   "outputs": [
    {
     "data": {
      "text/plain": [
       "'2'"
      ]
     },
     "execution_count": 57,
     "metadata": {},
     "output_type": "execute_result"
    }
   ],
   "source": [
    "s[-2]"
   ]
  },
  {
   "cell_type": "code",
   "execution_count": 58,
   "id": "2ce7b191-56f6-4f49-8bc5-e4f8defea290",
   "metadata": {
    "tags": []
   },
   "outputs": [
    {
     "data": {
      "text/plain": [
       "'1'"
      ]
     },
     "execution_count": 58,
     "metadata": {},
     "output_type": "execute_result"
    }
   ],
   "source": [
    "s[-3]"
   ]
  },
  {
   "cell_type": "code",
   "execution_count": 59,
   "id": "b45c28ee-535f-4e9d-b282-3078e80e9485",
   "metadata": {
    "tags": []
   },
   "outputs": [
    {
     "data": {
      "text/plain": [
       "'321-'"
      ]
     },
     "execution_count": 59,
     "metadata": {},
     "output_type": "execute_result"
    }
   ],
   "source": [
    "s[::-1]"
   ]
  },
  {
   "cell_type": "code",
   "execution_count": 75,
   "id": "3936b1d6-0790-45cc-982f-15557d898cf4",
   "metadata": {
    "tags": []
   },
   "outputs": [],
   "source": [
    "def test(x):\n",
    "    s=str(x)\n",
    "    s_reversed=s[::-1]\n",
    "    if s == s_reversed:\n",
    "        print(\"true\")\n",
    "    else:\n",
    "        print(\"false\")"
   ]
  },
  {
   "cell_type": "code",
   "execution_count": 77,
   "id": "72462103-f250-475a-a924-a79b9c9c80e2",
   "metadata": {
    "tags": []
   },
   "outputs": [
    {
     "name": "stdout",
     "output_type": "stream",
     "text": [
      "false\n"
     ]
    }
   ],
   "source": [
    "test(-121)"
   ]
  },
  {
   "cell_type": "code",
   "execution_count": null,
   "id": "2b948ecd-2856-4b13-8fdb-7dcb9610744a",
   "metadata": {},
   "outputs": [],
   "source": []
  }
 ],
 "metadata": {
  "kernelspec": {
   "display_name": "Python 3",
   "language": "python",
   "name": "python3"
  },
  "language_info": {
   "codemirror_mode": {
    "name": "ipython",
    "version": 3
   },
   "file_extension": ".py",
   "mimetype": "text/x-python",
   "name": "python",
   "nbconvert_exporter": "python",
   "pygments_lexer": "ipython3",
   "version": "3.8.8"
  }
 },
 "nbformat": 4,
 "nbformat_minor": 5
}
