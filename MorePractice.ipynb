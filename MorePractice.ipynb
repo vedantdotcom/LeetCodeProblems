{
 "cells": [
  {
   "cell_type": "code",
   "execution_count": 3,
   "id": "786f3885-fbf9-439f-90cb-d3daf4d0eba7",
   "metadata": {
    "tags": []
   },
   "outputs": [],
   "source": [
    "# List comprehension\n",
    "l = [1, 2, 3, 4, 5]"
   ]
  },
  {
   "cell_type": "code",
   "execution_count": 4,
   "id": "3479d1d3-4e71-4570-81db-d8875f14d7ea",
   "metadata": {
    "tags": []
   },
   "outputs": [],
   "source": [
    "l2 = [x ** 2 for x in l]"
   ]
  },
  {
   "cell_type": "code",
   "execution_count": 7,
   "id": "cdaf073b-6f8c-4bf6-91a5-fdcbddb0a9d8",
   "metadata": {
    "tags": []
   },
   "outputs": [],
   "source": [
    "l_l2 = [(x, x ** 2) for x in l]"
   ]
  },
  {
   "cell_type": "code",
   "execution_count": 8,
   "id": "540254a8-e568-4eae-8603-d895ab793fa7",
   "metadata": {
    "tags": []
   },
   "outputs": [
    {
     "data": {
      "text/plain": [
       "[(1, 1), (2, 4), (3, 9), (4, 16), (5, 25)]"
      ]
     },
     "execution_count": 8,
     "metadata": {},
     "output_type": "execute_result"
    }
   ],
   "source": [
    "l_l2"
   ]
  },
  {
   "cell_type": "code",
   "execution_count": 9,
   "id": "b10653e8-5086-4404-a71b-88de422eacb0",
   "metadata": {
    "tags": []
   },
   "outputs": [
    {
     "data": {
      "text/plain": [
       "[[1, 2, 3], [4, 5, 6], [7, 8, 9]]"
      ]
     },
     "execution_count": 9,
     "metadata": {},
     "output_type": "execute_result"
    }
   ],
   "source": [
    "matrix = [[1, 2, 3], [4, 5, 6], [7, 8, 9]]\n",
    "matrix"
   ]
  },
  {
   "cell_type": "code",
   "execution_count": 16,
   "id": "5096f2fd-07cd-47ce-925e-20e52ce5bc47",
   "metadata": {
    "tags": []
   },
   "outputs": [
    {
     "data": {
      "text/plain": [
       "[1, 2, 3, 4, 5, 6, 7, 8, 9]"
      ]
     },
     "execution_count": 16,
     "metadata": {},
     "output_type": "execute_result"
    }
   ],
   "source": [
    "flattened = [n for row in matrix for n in row]\n",
    "flattened"
   ]
  },
  {
   "cell_type": "code",
   "execution_count": 19,
   "id": "8fe8f153-2c16-4121-ba10-a6de8c40ab67",
   "metadata": {
    "tags": []
   },
   "outputs": [
    {
     "data": {
      "text/plain": [
       "['APPLE', 'BANANA', 'CHERRY']"
      ]
     },
     "execution_count": 19,
     "metadata": {},
     "output_type": "execute_result"
    }
   ],
   "source": [
    "fruits = [\"apple\", \"banana\", \"cherry\"]\n",
    "uppercase_fruits = [fruit.upper() for fruit in fruits]\n",
    "uppercase_fruits"
   ]
  },
  {
   "cell_type": "code",
   "execution_count": 22,
   "id": "1382abae-a2ca-4665-82b3-71feafa436b6",
   "metadata": {
    "tags": []
   },
   "outputs": [
    {
     "data": {
      "text/plain": [
       "6"
      ]
     },
     "execution_count": 22,
     "metadata": {},
     "output_type": "execute_result"
    }
   ],
   "source": [
    "# Lambda function\n",
    "x_squared_plus_y = lambda x, y: x ** 2 + y\n",
    "x_squared_plus_y(2, 2)\n"
   ]
  },
  {
   "cell_type": "code",
   "execution_count": 23,
   "id": "39a1ae5e-e7c5-4766-bdfd-71aafd2bbf37",
   "metadata": {
    "tags": []
   },
   "outputs": [
    {
     "data": {
      "text/plain": [
       "'ABCD'"
      ]
     },
     "execution_count": 23,
     "metadata": {},
     "output_type": "execute_result"
    }
   ],
   "source": [
    "to_upper = lambda s: s.upper()\n",
    "to_upper(\"abcd\")"
   ]
  },
  {
   "cell_type": "code",
   "execution_count": 28,
   "id": "5bca0272-9492-410c-b67c-a25c45344337",
   "metadata": {
    "tags": []
   },
   "outputs": [
    {
     "name": "stdout",
     "output_type": "stream",
     "text": [
      "7\n",
      "7\n"
     ]
    }
   ],
   "source": [
    "# Add function, regular function vs. lambad\n",
    "def add(x: int, y: int) -> int:\n",
    "    return x + y\n",
    "\n",
    "# Using the function\n",
    "print(add(3, 4))\n",
    "\n",
    "# Alternatively, using lambda\n",
    "lambda_add = lambda x, y: x + y\n",
    "print(lambda_add(3, 4))"
   ]
  },
  {
   "cell_type": "code",
   "execution_count": 20,
   "id": "a4bdf46f-d5c0-4293-85ce-1a32fc54e6a7",
   "metadata": {
    "tags": []
   },
   "outputs": [],
   "source": [
    "# Map function\n",
    "map(function, iterable)"
   ]
  },
  {
   "cell_type": "code",
   "execution_count": 2,
   "id": "7ff4917b-3473-4e0c-b82e-cba1515878f7",
   "metadata": {
    "tags": []
   },
   "outputs": [],
   "source": [
    "# Classes\n",
    "class Person:\n",
    "    def __init__(self, name, age):\n",
    "        self.name = name\n",
    "        self.age = age\n",
    "\n",
    "    # Special method __str__ to return a string representation of the object\n",
    "    def __str__(self):\n",
    "        return f\"Person: {self.name}, Age: {self.age}\"\n",
    "\n",
    "# Creating an object of the Person class\n",
    "person = Person(\"John\", 30)\n",
    "\n",
    "# Printing the object calls the __str__ method\n",
    "print(person)  # Output: \"Person: John, Age: 30\"\n"
   ]
  },
  {
   "cell_type": "code",
   "execution_count": 29,
   "id": "5e632804-979c-4284-b0ff-9deaeb1be379",
   "metadata": {
    "tags": []
   },
   "outputs": [
    {
     "name": "stdout",
     "output_type": "stream",
     "text": [
      "Buddy is 4 years old\n",
      "Buddy says woof!\n",
      "Max is 2 years old\n"
     ]
    }
   ],
   "source": []
  },
  {
   "cell_type": "code",
   "execution_count": null,
   "id": "1ecadf00-7509-4c02-8a16-f30192a77030",
   "metadata": {},
   "outputs": [],
   "source": [
    "# Dictionaries"
   ]
  }
 ],
 "metadata": {
  "kernelspec": {
   "display_name": "Python 3",
   "language": "python",
   "name": "python3"
  },
  "language_info": {
   "codemirror_mode": {
    "name": "ipython",
    "version": 3
   },
   "file_extension": ".py",
   "mimetype": "text/x-python",
   "name": "python",
   "nbconvert_exporter": "python",
   "pygments_lexer": "ipython3",
   "version": "3.8.8"
  }
 },
 "nbformat": 4,
 "nbformat_minor": 5
}
