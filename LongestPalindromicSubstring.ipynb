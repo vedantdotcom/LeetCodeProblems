{
 "cells": [
  {
   "cell_type": "code",
   "execution_count": 1,
   "id": "9561e760-3bdd-4429-a5a2-6e3d1887a542",
   "metadata": {
    "tags": []
   },
   "outputs": [],
   "source": [
    "s = \"babad\""
   ]
  },
  {
   "cell_type": "code",
   "execution_count": 45,
   "id": "c2f989ef-668a-4b81-8010-e26b10b1a0a6",
   "metadata": {
    "tags": []
   },
   "outputs": [
    {
     "data": {
      "text/plain": [
       "['b', 'a', 'd', 'bab', 'aba']"
      ]
     },
     "execution_count": 45,
     "metadata": {},
     "output_type": "execute_result"
    }
   ],
   "source": [
    "substrings = []\n",
    "for i in range(0, len(s) + 1):\n",
    "    for j in range(i + 1, len(s) + 1):\n",
    "        string = s[i:j]\n",
    "    \n",
    "        if string in substrings:\n",
    "            pass\n",
    "        elif string == string[::-1]:\n",
    "            substrings.append(string)\n",
    "\n",
    "substrings = sorted(substrings, key=len)\n",
    "return substrings[-1]\n",
    "print(substrings[-1])"
   ]
  },
  {
   "cell_type": "code",
   "execution_count": 47,
   "id": "71734110-e79d-4a57-b10c-dafad7426ce3",
   "metadata": {
    "tags": []
   },
   "outputs": [
    {
     "data": {
      "text/plain": [
       "'aba'"
      ]
     },
     "execution_count": 47,
     "metadata": {},
     "output_type": "execute_result"
    }
   ],
   "source": [
    "substrings[-1]"
   ]
  },
  {
   "cell_type": "code",
   "execution_count": 24,
   "id": "e63fc68c-6c6b-48bb-80bf-1dbe20f5f1ac",
   "metadata": {
    "tags": []
   },
   "outputs": [],
   "source": [
    "class Solution:\n",
    "    def longestPalindrome(self, s: str) -> str:    \n",
    "        substrings = []\n",
    "        \n",
    "        for i in range(0, len(s) + 1):\n",
    "            for j in range(i + 1, len(s) + 1):\n",
    "                string = s[i:j]\n",
    "            \n",
    "                if string in substrings:\n",
    "                    pass\n",
    "                elif string == string[::-1]:\n",
    "                    substrings.append(string)\n",
    "\n",
    "        substrings = sorted(substrings, key=len)\n",
    "        return substrings[-1]\n",
    "        print(substrings[-1])\n",
    " "
   ]
  },
  {
   "cell_type": "code",
   "execution_count": 9,
   "id": "eabe3e7f-fca2-4611-a56a-4531815b2bd4",
   "metadata": {
    "tags": []
   },
   "outputs": [
    {
     "data": {
      "text/plain": [
       "'-321'"
      ]
     },
     "execution_count": 9,
     "metadata": {},
     "output_type": "execute_result"
    }
   ],
   "source": [
    "d = -123\n",
    "s_d = str(d)\n",
    "s_d\n",
    "\n",
    "\n",
    "s_d = \"-\" + s_d[1:][::-1]\n",
    "s_d"
   ]
  },
  {
   "cell_type": "code",
   "execution_count": 10,
   "id": "8fed088f-71a3-4f8b-8b34-8cc3881a3354",
   "metadata": {
    "tags": []
   },
   "outputs": [
    {
     "data": {
      "text/plain": [
       "-123"
      ]
     },
     "execution_count": 10,
     "metadata": {},
     "output_type": "execute_result"
    }
   ],
   "source": [
    "class Solution:\n",
    "    def reverse(self, x: int) -> int:\n",
    "        x = str(x)\n",
    "    \n",
    "        if x[0] == \"-\":\n",
    "            x = \"-\" + x[1:][::-1]\n",
    "        else:\n",
    "            s_d = s_d[::-1]\n",
    "        \n",
    "        x = int(x)\n",
    "\n",
    "        if x < -2147483648 or x > 2147483647:\n",
    "            x = 0\n",
    "        else:\n",
    "            pass\n",
    "\n",
    "    return(x)\n",
    "    print(x)\n",
    "    "
   ]
  },
  {
   "cell_type": "code",
   "execution_count": 3,
   "id": "75f02d2e-b708-4225-b670-42bfa64a09f3",
   "metadata": {
    "tags": []
   },
   "outputs": [
    {
     "data": {
      "text/plain": [
       "2147483647"
      ]
     },
     "execution_count": 3,
     "metadata": {},
     "output_type": "execute_result"
    }
   ],
   "source": [
    "2**31 - 1"
   ]
  }
 ],
 "metadata": {
  "kernelspec": {
   "display_name": "Python 3",
   "language": "python",
   "name": "python3"
  },
  "language_info": {
   "codemirror_mode": {
    "name": "ipython",
    "version": 3
   },
   "file_extension": ".py",
   "mimetype": "text/x-python",
   "name": "python",
   "nbconvert_exporter": "python",
   "pygments_lexer": "ipython3",
   "version": "3.8.8"
  }
 },
 "nbformat": 4,
 "nbformat_minor": 5
}
