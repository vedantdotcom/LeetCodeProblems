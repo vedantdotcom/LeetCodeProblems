{
 "cells": [
  {
   "cell_type": "code",
   "execution_count": 1,
   "id": "fa5d4504-a268-41e6-bdce-d89232afa5c9",
   "metadata": {
    "tags": []
   },
   "outputs": [],
   "source": [
    "# Roman to Integer\n",
    "# Define Dictionary:"
   ]
  },
  {
   "cell_type": "code",
   "execution_count": 25,
   "id": "6d6d60cf-2bd2-4dc4-acab-710d88136427",
   "metadata": {
    "tags": []
   },
   "outputs": [],
   "source": [
    "RomToInt = {\n",
    "    \"I\" : 1,\n",
    "    \"V\" : 5,\n",
    "    \"X\" : 10,\n",
    "    \"L\" : 50,\n",
    "    \"C\" : 100,\n",
    "    \"D\" : 500,\n",
    "    \"M\" : 1000 }\n",
    "\n",
    "keys = list(RomToInt.keys())"
   ]
  },
  {
   "cell_type": "code",
   "execution_count": 27,
   "id": "2621accd-5625-4e98-bdac-8c33f758868f",
   "metadata": {
    "tags": []
   },
   "outputs": [
    {
     "name": "stdout",
     "output_type": "stream",
     "text": [
      "{'I': 1, 'V': 5, 'X': 10, 'L': 50, 'C': 100, 'D': 500, 'M': 1000}\n",
      "['I', 'V', 'X', 'L', 'C', 'D', 'M']\n"
     ]
    }
   ],
   "source": [
    "print(RomToInt)\n",
    "print(keys)"
   ]
  },
  {
   "cell_type": "code",
   "execution_count": 30,
   "id": "da17cf84-9c50-4ad8-a456-450fe6e4be92",
   "metadata": {
    "tags": []
   },
   "outputs": [],
   "source": [
    "s = \"VIV\""
   ]
  },
  {
   "cell_type": "code",
   "execution_count": 33,
   "id": "215e3abc-b06a-4e33-95d8-c1c3a7f0ddec",
   "metadata": {
    "tags": []
   },
   "outputs": [
    {
     "name": "stdout",
     "output_type": "stream",
     "text": [
      "V\n",
      "I\n",
      "V\n"
     ]
    }
   ],
   "source": [
    "for i in range(len(s) - 1, -1, -1):\n",
    "    \n",
    "#    total = 0\n",
    "#    if keys.index(s[i]) <= keys.index(s[i + 1]):\n",
    "#        total = total + RomToInt[s[i]]\n",
    "#    else:\n",
    "#        total = total - RomToInt[s[i]]"
   ]
  },
  {
   "cell_type": "code",
   "execution_count": 28,
   "id": "5696a051-80f7-4169-bae7-756c58013ee2",
   "metadata": {
    "tags": []
   },
   "outputs": [
    {
     "data": {
      "text/plain": [
       "1"
      ]
     },
     "execution_count": 28,
     "metadata": {},
     "output_type": "execute_result"
    }
   ],
   "source": [
    "RomToInt[\"I\"]"
   ]
  },
  {
   "cell_type": "code",
   "execution_count": 27,
   "id": "9a99e444-e6aa-4c9d-9ed3-6ab3099df999",
   "metadata": {
    "tags": []
   },
   "outputs": [
    {
     "data": {
      "text/plain": [
       "[104, 101, 108, 108, 111]"
      ]
     },
     "execution_count": 27,
     "metadata": {},
     "output_type": "execute_result"
    }
   ],
   "source": [
    "s = \"hello\"\n",
    "values = [ord(x) for x in s]\n",
    "a_diffs = sum([abs(i - j) for i, j in zip(x1, x2)])\n",
    "return a_diffs\n",
    "print(a_diffs)"
   ]
  },
  {
   "cell_type": "code",
   "execution_count": 30,
   "id": "60a7116f-7181-46c3-bb8f-b45a08a03643",
   "metadata": {
    "tags": []
   },
   "outputs": [],
   "source": [
    "x1 = values[0:-1]\n",
    "x2 = values[1:]"
   ]
  },
  {
   "cell_type": "code",
   "execution_count": 39,
   "id": "ceee2b0a-8c5d-4fd9-8a6d-497f6698c5d5",
   "metadata": {
    "tags": []
   },
   "outputs": [
    {
     "data": {
      "text/plain": [
       "13"
      ]
     },
     "execution_count": 39,
     "metadata": {},
     "output_type": "execute_result"
    }
   ],
   "source": [
    "\n",
    "a_diffs"
   ]
  },
  {
   "cell_type": "code",
   "execution_count": 32,
   "id": "3277f202-defa-422d-8ddf-42153ac9c581",
   "metadata": {
    "tags": []
   },
   "outputs": [
    {
     "data": {
      "text/plain": [
       "[101, 108, 108, 111]"
      ]
     },
     "execution_count": 32,
     "metadata": {},
     "output_type": "execute_result"
    }
   ],
   "source": [
    "x2"
   ]
  },
  {
   "cell_type": "code",
   "execution_count": 37,
   "id": "5cba6208-8dff-410b-9237-a50298b72698",
   "metadata": {
    "tags": []
   },
   "outputs": [
    {
     "ename": "SyntaxError",
     "evalue": "invalid syntax (<ipython-input-37-a0253efc166e>, line 1)",
     "output_type": "error",
     "traceback": [
      "\u001b[1;36m  File \u001b[1;32m\"<ipython-input-37-a0253efc166e>\"\u001b[1;36m, line \u001b[1;32m1\u001b[0m\n\u001b[1;33m    abs_diffs = [i, j for i, j in x1, x2]\u001b[0m\n\u001b[1;37m                      ^\u001b[0m\n\u001b[1;31mSyntaxError\u001b[0m\u001b[1;31m:\u001b[0m invalid syntax\n"
     ]
    }
   ],
   "source": []
  },
  {
   "cell_type": "code",
   "execution_count": 31,
   "id": "5584f6f1-744b-441c-a07c-9ce499c2da2d",
   "metadata": {
    "tags": []
   },
   "outputs": [
    {
     "data": {
      "text/plain": [
       "[101, 108, 108, 111]"
      ]
     },
     "execution_count": 31,
     "metadata": {},
     "output_type": "execute_result"
    }
   ],
   "source": [
    "x2"
   ]
  },
  {
   "cell_type": "code",
   "execution_count": 26,
   "id": "24b39f22-7bd0-485b-882c-0fd0aca73946",
   "metadata": {
    "tags": []
   },
   "outputs": [
    {
     "data": {
      "text/plain": [
       "[101, 108, 108, 111]"
      ]
     },
     "execution_count": 26,
     "metadata": {},
     "output_type": "execute_result"
    }
   ],
   "source": [
    "x2"
   ]
  },
  {
   "cell_type": "code",
   "execution_count": 23,
   "id": "7f430adf-7d67-4cbc-a6e1-1d63cf0ac5aa",
   "metadata": {
    "tags": []
   },
   "outputs": [
    {
     "name": "stdout",
     "output_type": "stream",
     "text": [
      "104 101 3\n",
      "101 108 7\n",
      "108 108 0\n",
      "108 111 3\n"
     ]
    }
   ],
   "source": [
    "for x in range(0, len(values) - 1): \n",
    "    print(values[x], values[x + 1], abs(values[x] - values[x + 1]))"
   ]
  }
 ],
 "metadata": {
  "kernelspec": {
   "display_name": "Python 3",
   "language": "python",
   "name": "python3"
  },
  "language_info": {
   "codemirror_mode": {
    "name": "ipython",
    "version": 3
   },
   "file_extension": ".py",
   "mimetype": "text/x-python",
   "name": "python",
   "nbconvert_exporter": "python",
   "pygments_lexer": "ipython3",
   "version": "3.8.8"
  }
 },
 "nbformat": 4,
 "nbformat_minor": 5
}
