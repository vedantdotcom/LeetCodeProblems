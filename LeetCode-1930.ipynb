{
 "cells": [
  {
   "cell_type": "code",
   "execution_count": 2,
   "id": "1f07e46c-672a-447e-92ff-e41ab55eb918",
   "metadata": {
    "tags": []
   },
   "outputs": [],
   "source": [
    "from typing import List"
   ]
  },
  {
   "cell_type": "code",
   "execution_count": 43,
   "id": "b4dbad35-041b-42e7-98b0-72eeffa61a18",
   "metadata": {
    "tags": []
   },
   "outputs": [],
   "source": [
    "def buildArray(nums: List[int]) -> List[int]:\n",
    "    output=list()\n",
    "    for i in range(len(nums)):\n",
    "        output.append(nums[nums[i]])\n",
    "    print(output)"
   ]
  },
  {
   "cell_type": "code",
   "execution_count": 44,
   "id": "a236cf55-8fd7-4a66-95aa-f4444056da8a",
   "metadata": {
    "tags": []
   },
   "outputs": [],
   "source": [
    "nums = [0,2,1,5,3,4]\n",
    "#output = [0,1,2,4,5,3]"
   ]
  },
  {
   "cell_type": "code",
   "execution_count": 45,
   "id": "a274976c-7dca-4a7a-b0ae-105cd4a675c6",
   "metadata": {
    "tags": []
   },
   "outputs": [
    {
     "name": "stdout",
     "output_type": "stream",
     "text": [
      "[0, 1, 2, 4, 5, 3]\n"
     ]
    }
   ],
   "source": [
    "buildArray(nums)"
   ]
  },
  {
   "cell_type": "code",
   "execution_count": null,
   "id": "40d8eca4-cf4d-41f7-83a5-c51954bcc46b",
   "metadata": {},
   "outputs": [],
   "source": []
  },
  {
   "cell_type": "code",
   "execution_count": 42,
   "id": "41aea020-4c9c-470d-89a0-a03d952c8aaa",
   "metadata": {
    "tags": []
   },
   "outputs": [
    {
     "name": "stdout",
     "output_type": "stream",
     "text": [
      "[0, 1, 2, 4, 5, 3]\n"
     ]
    }
   ],
   "source": []
  },
  {
   "cell_type": "code",
   "execution_count": null,
   "id": "4aa910e8-a5d5-4f41-b9da-cba8e4a01e6a",
   "metadata": {},
   "outputs": [],
   "source": []
  }
 ],
 "metadata": {
  "kernelspec": {
   "display_name": "Python 3",
   "language": "python",
   "name": "python3"
  },
  "language_info": {
   "codemirror_mode": {
    "name": "ipython",
    "version": 3
   },
   "file_extension": ".py",
   "mimetype": "text/x-python",
   "name": "python",
   "nbconvert_exporter": "python",
   "pygments_lexer": "ipython3",
   "version": "3.8.8"
  }
 },
 "nbformat": 4,
 "nbformat_minor": 5
}
