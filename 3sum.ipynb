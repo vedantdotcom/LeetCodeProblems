{
 "cells": [
  {
   "cell_type": "code",
   "execution_count": 2,
   "id": "1a2b1ba5-8436-4412-9a53-e3f668dc0fff",
   "metadata": {
    "tags": []
   },
   "outputs": [],
   "source": [
    "nums = [-1,0,1,2,-1,-4]"
   ]
  },
  {
   "cell_type": "code",
   "execution_count": 18,
   "id": "1e5d5a4e-8c9c-4c69-9135-37559dd7a4c1",
   "metadata": {
    "tags": []
   },
   "outputs": [
    {
     "data": {
      "text/plain": [
       "[[-1, 0],\n",
       " [-1, 1],\n",
       " [-1, 2],\n",
       " [-1, -1],\n",
       " [-1, -4],\n",
       " [0, 1],\n",
       " [0, 2],\n",
       " [0, -1],\n",
       " [0, -4],\n",
       " [1, 2],\n",
       " [1, -1],\n",
       " [1, -4],\n",
       " [2, -1],\n",
       " [2, -4],\n",
       " [-1, -4]]"
      ]
     },
     "execution_count": 18,
     "metadata": {},
     "output_type": "execute_result"
    }
   ],
   "source": [
    "tuples = []\n",
    "for i in range(0, len(nums)):\n",
    "    for j in range(1 + i, len(nums)):\n",
    "        tuples.append([nums[i], nums[j]])\n",
    "tuples"
   ]
  },
  {
   "cell_type": "code",
   "execution_count": 19,
   "id": "ee58f4a9-50a5-484f-abfc-07c26c5e286b",
   "metadata": {
    "tags": []
   },
   "outputs": [],
   "source": [
    "thruples = []\n",
    "for i, j in tuples:\n",
    "    for k in range(nums:\n",
    "        if (nums[i] + nums[j] + nums[k]) == 0:\n",
    "            thruples.append([nums[i], nums[j], nums[k]])\n",
    "        else:\n",
    "            pass"
   ]
  },
  {
   "cell_type": "code",
   "execution_count": 20,
   "id": "d846fe9d-210d-4155-b351-9db4a4cc6f55",
   "metadata": {
    "tags": []
   },
   "outputs": [
    {
     "data": {
      "text/plain": [
       "[[0, 1, -1], [0, 1, -1]]"
      ]
     },
     "execution_count": 20,
     "metadata": {},
     "output_type": "execute_result"
    }
   ],
   "source": [
    "thruples"
   ]
  }
 ],
 "metadata": {
  "kernelspec": {
   "display_name": "Python 3",
   "language": "python",
   "name": "python3"
  },
  "language_info": {
   "codemirror_mode": {
    "name": "ipython",
    "version": 3
   },
   "file_extension": ".py",
   "mimetype": "text/x-python",
   "name": "python",
   "nbconvert_exporter": "python",
   "pygments_lexer": "ipython3",
   "version": "3.8.8"
  }
 },
 "nbformat": 4,
 "nbformat_minor": 5
}
