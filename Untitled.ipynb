{
 "cells": [
  {
   "cell_type": "code",
   "execution_count": 1,
   "id": "3350459a-54f9-4c0a-a885-8e385d04e8f2",
   "metadata": {
    "tags": []
   },
   "outputs": [],
   "source": [
    "haystack = \"sadbutsad\"\n",
    "needle = \"sad\""
   ]
  },
  {
   "cell_type": "code",
   "execution_count": 6,
   "id": "0c5fa4f5-f31f-4c0a-9bf2-325b5ff6e2f2",
   "metadata": {
    "tags": []
   },
   "outputs": [
    {
     "name": "stdout",
     "output_type": "stream",
     "text": [
      "0\n"
     ]
    }
   ],
   "source": [
    "n_length = len(needle)\n",
    "for x in range(0, len(haystack)):\n",
    "    if needle == haystack[x:x + n_length]:\n",
    "        print(x)\n",
    "        break\n",
    "    else:\n",
    "        pass"
   ]
  },
  {
   "cell_type": "code",
   "execution_count": 43,
   "id": "29401e64-fec5-4d88-aca4-3b049a893b61",
   "metadata": {
    "tags": []
   },
   "outputs": [],
   "source": [
    "nums = [3, 3]\n",
    "target = 6"
   ]
  },
  {
   "cell_type": "code",
   "execution_count": 52,
   "id": "f7434a0b-8055-4e6c-9b39-df0dfd4e111c",
   "metadata": {
    "tags": []
   },
   "outputs": [
    {
     "name": "stdout",
     "output_type": "stream",
     "text": [
      "[0, 1]\n"
     ]
    }
   ],
   "source": [
    "for x in range(0, len(nums)):\n",
    "    y = target - nums[x]\n",
    "    if y in nums[x + 1:]:\n",
    "        solution =  [x, nums.index(y) + (x + 1)]\n",
    "        print(solution)\n",
    "    else:\n",
    "        pass\n",
    "        "
   ]
  }
 ],
 "metadata": {
  "kernelspec": {
   "display_name": "Python 3",
   "language": "python",
   "name": "python3"
  },
  "language_info": {
   "codemirror_mode": {
    "name": "ipython",
    "version": 3
   },
   "file_extension": ".py",
   "mimetype": "text/x-python",
   "name": "python",
   "nbconvert_exporter": "python",
   "pygments_lexer": "ipython3",
   "version": "3.8.8"
  }
 },
 "nbformat": 4,
 "nbformat_minor": 5
}
