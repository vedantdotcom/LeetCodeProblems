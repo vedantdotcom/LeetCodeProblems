{
 "cells": [
  {
   "cell_type": "code",
   "execution_count": 103,
   "id": "b025ecd5-8f0e-4e04-aa20-af4be81282cd",
   "metadata": {
    "tags": []
   },
   "outputs": [],
   "source": [
    "from typing import List\n",
    "\n",
    "            "
   ]
  },
  {
   "cell_type": "code",
   "execution_count": 104,
   "id": "b294e2eb-6271-4133-8917-0df767f17ad5",
   "metadata": {
    "tags": []
   },
   "outputs": [],
   "source": [
    "def removeDuplicates(nums: List[int]) -> int:\n",
    "        nums=list(set(nums))\n",
    "        return nums\n",
    "                \n",
    "            \n",
    "                \n"
   ]
  },
  {
   "cell_type": "code",
   "execution_count": 105,
   "id": "155243cb-d377-42ff-a5f3-42d13eb3a402",
   "metadata": {
    "tags": []
   },
   "outputs": [],
   "source": [
    "test=[1,1,2]"
   ]
  },
  {
   "cell_type": "code",
   "execution_count": 106,
   "id": "35ec02d7-a9dc-4690-b0bf-f31f22bcd5e8",
   "metadata": {
    "tags": []
   },
   "outputs": [
    {
     "data": {
      "text/plain": [
       "[1, 2]"
      ]
     },
     "execution_count": 106,
     "metadata": {},
     "output_type": "execute_result"
    }
   ],
   "source": [
    "removeDuplicates(test)"
   ]
  },
  {
   "cell_type": "code",
   "execution_count": null,
   "id": "24ce6064-901e-4c91-96a0-2e28dff45389",
   "metadata": {},
   "outputs": [],
   "source": []
  }
 ],
 "metadata": {
  "kernelspec": {
   "display_name": "Python 3",
   "language": "python",
   "name": "python3"
  },
  "language_info": {
   "codemirror_mode": {
    "name": "ipython",
    "version": 3
   },
   "file_extension": ".py",
   "mimetype": "text/x-python",
   "name": "python",
   "nbconvert_exporter": "python",
   "pygments_lexer": "ipython3",
   "version": "3.8.8"
  }
 },
 "nbformat": 4,
 "nbformat_minor": 5
}
