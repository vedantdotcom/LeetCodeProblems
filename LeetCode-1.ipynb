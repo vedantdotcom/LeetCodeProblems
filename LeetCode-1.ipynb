{
 "cells": [
  {
   "cell_type": "code",
   "execution_count": 9,
   "id": "34eeac30-3050-49c7-84e7-e4dfc36076e5",
   "metadata": {
    "tags": []
   },
   "outputs": [],
   "source": [
    "from typing import List"
   ]
  },
  {
   "cell_type": "code",
   "execution_count": 50,
   "id": "a3316e57-c36e-495d-a2e7-cd1ee0624fe4",
   "metadata": {
    "tags": []
   },
   "outputs": [],
   "source": [
    "def testfunc(nums: List[int],target: int):\n",
    "    for i in nums:\n",
    "        start=i+1\n",
    "        for j in nums[start:]:\n",
    "            if i+j==target:\n",
    "                break\n",
    "            else:\n",
    "                pass\n",
    "    print(nums.index(i),nums.index(j))"
   ]
  },
  {
   "cell_type": "code",
   "execution_count": 51,
   "id": "a690df28-a955-4a1d-a076-73f8a451c76e",
   "metadata": {
    "tags": []
   },
   "outputs": [],
   "source": [
    "test=[1,2,3,4]"
   ]
  },
  {
   "cell_type": "code",
   "execution_count": 52,
   "id": "211c5321-03cf-45dd-9510-8ff3fbd8115c",
   "metadata": {
    "tags": []
   },
   "outputs": [
    {
     "name": "stdout",
     "output_type": "stream",
     "text": [
      "3 3\n"
     ]
    }
   ],
   "source": [
    "testfunc(test,7)"
   ]
  },
  {
   "cell_type": "code",
   "execution_count": null,
   "id": "10925fc8-ef5d-401c-a8ea-d0ab504fcbaa",
   "metadata": {},
   "outputs": [],
   "source": []
  }
 ],
 "metadata": {
  "kernelspec": {
   "display_name": "Python 3",
   "language": "python",
   "name": "python3"
  },
  "language_info": {
   "codemirror_mode": {
    "name": "ipython",
    "version": 3
   },
   "file_extension": ".py",
   "mimetype": "text/x-python",
   "name": "python",
   "nbconvert_exporter": "python",
   "pygments_lexer": "ipython3",
   "version": "3.8.8"
  }
 },
 "nbformat": 4,
 "nbformat_minor": 5
}
