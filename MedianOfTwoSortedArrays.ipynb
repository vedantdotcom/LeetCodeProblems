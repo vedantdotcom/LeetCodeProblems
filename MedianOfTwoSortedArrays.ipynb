{
 "cells": [
  {
   "cell_type": "code",
   "execution_count": 222,
   "id": "4b1a6f1b-4d85-48d3-8e0d-6e73c9df4c32",
   "metadata": {},
   "outputs": [],
   "source": [
    "nums1 = [2, 2, 4, 4]\n",
    "nums2 = [2, 2, 4, 4]"
   ]
  },
  {
   "cell_type": "code",
   "execution_count": 218,
   "id": "d042e701-866e-4e54-adf1-75d8be0a696b",
   "metadata": {
    "tags": []
   },
   "outputs": [],
   "source": [
    "nums3 = sorted(nums1 + nums2)"
   ]
  },
  {
   "cell_type": "code",
   "execution_count": 223,
   "id": "0085ece9-d93f-4c6a-af58-b03cb7e41869",
   "metadata": {
    "tags": []
   },
   "outputs": [
    {
     "data": {
      "text/plain": [
       "[2, 2, 2, 2, 4, 4, 4]"
      ]
     },
     "execution_count": 223,
     "metadata": {},
     "output_type": "execute_result"
    }
   ],
   "source": [
    "nums3"
   ]
  },
  {
   "cell_type": "code",
   "execution_count": 176,
   "id": "3981b0c1-0afc-40f8-a542-de5e2b5f16df",
   "metadata": {
    "tags": []
   },
   "outputs": [],
   "source": [
    "class Solution:\n",
    "    def findMedianSortedArrays(self, nums1: List[int], nums2: List[int]) -> float:\n",
    "        nums3 = sorted(nums1 + nums2)\n",
    "\n",
    "        mid = len(nums3) // 2\n",
    "    \n",
    "        if len(nums3) % 2 != 0:\n",
    "            median = nums[mid]\n",
    "        else:\n",
    "            median = (nums[mid] + nums[mid + 1])/2\n",
    "   \n",
    "        return median\n",
    "        print(median)"
   ]
  },
  {
   "cell_type": "code",
   "execution_count": 234,
   "id": "332759c0-a8c7-44bf-a2bc-82a8aa0e5344",
   "metadata": {
    "tags": []
   },
   "outputs": [
    {
     "data": {
      "text/plain": [
       "2"
      ]
     },
     "execution_count": 234,
     "metadata": {},
     "output_type": "execute_result"
    }
   ],
   "source": [
    "nums1 = [2, 2, 4, 4]\n",
    "nums2 = [2, 2, 4]\n",
    "\n",
    "nums3 = sorted(nums1 + nums2)\n",
    "\n",
    "mid = len(nums3) // 2\n",
    "    \n",
    "if len(nums3) % 2 != 0:\n",
    "    median = nums3[mid]\n",
    "else:\n",
    "    median = (nums3[mid] + nums3[mid - 1])/2\n",
    "   \n",
    "median"
   ]
  },
  {
   "cell_type": "code",
   "execution_count": null,
   "id": "367ed405-0035-4b87-8c3e-151cbbb0191d",
   "metadata": {},
   "outputs": [],
   "source": []
  }
 ],
 "metadata": {
  "kernelspec": {
   "display_name": "Python 3",
   "language": "python",
   "name": "python3"
  },
  "language_info": {
   "codemirror_mode": {
    "name": "ipython",
    "version": 3
   },
   "file_extension": ".py",
   "mimetype": "text/x-python",
   "name": "python",
   "nbconvert_exporter": "python",
   "pygments_lexer": "ipython3",
   "version": "3.8.8"
  }
 },
 "nbformat": 4,
 "nbformat_minor": 5
}
