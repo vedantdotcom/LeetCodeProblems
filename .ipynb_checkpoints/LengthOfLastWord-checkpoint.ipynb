{
 "cells": [
  {
   "cell_type": "code",
   "execution_count": 19,
   "id": "47c7a9d4-c889-4d2e-8db9-3ad2843655bf",
   "metadata": {
    "tags": []
   },
   "outputs": [],
   "source": [
    "strs = [\"flower\",\"flow\",\"flight\"]"
   ]
  },
  {
   "cell_type": "code",
   "execution_count": 40,
   "id": "95557475-9940-4277-8404-3fbfcf04eeba",
   "metadata": {
    "tags": []
   },
   "outputs": [
    {
     "ename": "SyntaxError",
     "evalue": "invalid syntax (<ipython-input-40-be600edc227d>, line 7)",
     "output_type": "error",
     "traceback": [
      "\u001b[1;36m  File \u001b[1;32m\"<ipython-input-40-be600edc227d>\"\u001b[1;36m, line \u001b[1;32m7\u001b[0m\n\u001b[1;33m    for y in range(0, len(strs):\u001b[0m\n\u001b[1;37m                               ^\u001b[0m\n\u001b[1;31mSyntaxError\u001b[0m\u001b[1;31m:\u001b[0m invalid syntax\n"
     ]
    }
   ],
   "source": [
    "# Get prefixes to test\n",
    "prefixes = []\n",
    "for x in range(1, len(strs[0]) + 1):\n",
    "    prefixes.append(strs[0][0:x])\n",
    "    \n",
    "for x in prefixes:\n",
    "    for y in range(0, len(strs):"
   ]
  },
  {
   "cell_type": "code",
   "execution_count": 53,
   "id": "0fc0ac48-afe6-49d5-b3ad-df9f86202197",
   "metadata": {
    "tags": []
   },
   "outputs": [
    {
     "name": "stdout",
     "output_type": "stream",
     "text": [
      "flower\n",
      "flow\n",
      "flight\n",
      "flower\n",
      "flow\n",
      "flight\n",
      "flower\n",
      "flow\n",
      "flight\n",
      "flower\n",
      "flow\n",
      "flight\n",
      "flower\n",
      "flow\n",
      "flower\n",
      "flow\n"
     ]
    }
   ],
   "source": []
  },
  {
   "cell_type": "code",
   "execution_count": 29,
   "id": "d927b5fd-9893-4eb1-b8db-1bfeeaa27749",
   "metadata": {
    "tags": []
   },
   "outputs": [
    {
     "ename": "TypeError",
     "evalue": "unsupported operand type(s) for -: 'list' and 'str'",
     "output_type": "error",
     "traceback": [
      "\u001b[1;31m---------------------------------------------------------------------------\u001b[0m",
      "\u001b[1;31mTypeError\u001b[0m                                 Traceback (most recent call last)",
      "\u001b[1;32m<ipython-input-29-9bdcf625839e>\u001b[0m in \u001b[0;36m<module>\u001b[1;34m\u001b[0m\n\u001b[1;32m----> 1\u001b[1;33m \u001b[0mstrs\u001b[0m \u001b[1;33m-\u001b[0m \u001b[1;34m\"f\"\u001b[0m\u001b[1;33m\u001b[0m\u001b[1;33m\u001b[0m\u001b[0m\n\u001b[0m",
      "\u001b[1;31mTypeError\u001b[0m: unsupported operand type(s) for -: 'list' and 'str'"
     ]
    }
   ],
   "source": []
  }
 ],
 "metadata": {
  "kernelspec": {
   "display_name": "Python 3",
   "language": "python",
   "name": "python3"
  },
  "language_info": {
   "codemirror_mode": {
    "name": "ipython",
    "version": 3
   },
   "file_extension": ".py",
   "mimetype": "text/x-python",
   "name": "python",
   "nbconvert_exporter": "python",
   "pygments_lexer": "ipython3",
   "version": "3.8.8"
  }
 },
 "nbformat": 4,
 "nbformat_minor": 5
}
