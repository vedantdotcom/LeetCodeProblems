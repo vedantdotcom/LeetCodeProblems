{
 "cells": [
  {
   "cell_type": "code",
   "execution_count": 1,
   "id": "a46a1933-2a69-4466-81e9-731b87f43a28",
   "metadata": {
    "tags": []
   },
   "outputs": [
    {
     "ename": "SyntaxError",
     "evalue": "unexpected EOF while parsing (<ipython-input-1-552905a50056>, line 3)",
     "output_type": "error",
     "traceback": [
      "\u001b[1;36m  File \u001b[1;32m\"<ipython-input-1-552905a50056>\"\u001b[1;36m, line \u001b[1;32m3\u001b[0m\n\u001b[1;33m    \u001b[0m\n\u001b[1;37m    ^\u001b[0m\n\u001b[1;31mSyntaxError\u001b[0m\u001b[1;31m:\u001b[0m unexpected EOF while parsing\n"
     ]
    }
   ],
   "source": [
    "class Solution:\n",
    "    def maxArea(self, height: List[int]) -> int:\n",
    "        "
   ]
  },
  {
   "cell_type": "code",
   "execution_count": 2,
   "id": "5825eefc-1ced-4a9a-a4f9-9f3ce959a3fc",
   "metadata": {
    "tags": []
   },
   "outputs": [],
   "source": [
    "height = [1,8,6,2,5,4,8,3,7]"
   ]
  },
  {
   "cell_type": "code",
   "execution_count": 8,
   "id": "9f7cb5e0-a8dd-4d3e-a502-cc81224c2356",
   "metadata": {
    "tags": []
   },
   "outputs": [
    {
     "name": "stdout",
     "output_type": "stream",
     "text": [
      "1 8\n",
      "1 6\n",
      "1 2\n",
      "1 5\n",
      "1 4\n",
      "1 8\n",
      "1 3\n",
      "1 7\n",
      "8 6\n",
      "8 2\n",
      "8 5\n",
      "8 4\n",
      "8 8\n",
      "8 3\n",
      "8 7\n",
      "6 2\n",
      "6 5\n",
      "6 4\n",
      "6 8\n",
      "6 3\n",
      "6 7\n",
      "2 5\n",
      "2 4\n",
      "2 8\n",
      "2 3\n",
      "2 7\n",
      "5 4\n",
      "5 8\n",
      "5 3\n",
      "5 7\n",
      "4 8\n",
      "4 3\n",
      "4 7\n",
      "8 3\n",
      "8 7\n",
      "3 7\n"
     ]
    }
   ],
   "source": [
    "# Brute force method\n",
    "for i in range(0, len(height) - 1):\n",
    "    for j in range(i + 1, len(height)):\n",
    "        if \n",
    "\n"
   ]
  },
  {
   "cell_type": "code",
   "execution_count": null,
   "id": "9e0ee71a-ded1-4a91-abc1-c3e011082e7b",
   "metadata": {},
   "outputs": [],
   "source": [
    "Creation: dictionary = {key1: value1, key2: value2, ...}\n",
    "Accessing values: dictionary[key]\n",
    "Adding a key-value pair: dictionary[new_key] = new_value\n",
    "Checking for a key: key in dictionary\n",
    "Updating a value: dictionary[key] = new_value\n",
    "Removing a key: del dictionary[key]"
   ]
  },
  {
   "cell_type": "code",
   "execution_count": 9,
   "id": "09ac8838-8f31-46b9-9149-d64094adc98b",
   "metadata": {
    "tags": []
   },
   "outputs": [],
   "source": [
    "# People's Names and ages\n",
    "dictionary = {\n",
    "    \"Alice\" : 20,\n",
    "    \"Bob\" : 65,\n",
    "    \"Max\" : 33\n",
    "    }"
   ]
  },
  {
   "cell_type": "code",
   "execution_count": 12,
   "id": "e9931d75-4e38-43de-bd3d-684d52821bc9",
   "metadata": {
    "tags": []
   },
   "outputs": [
    {
     "data": {
      "text/plain": [
       "20"
      ]
     },
     "execution_count": 12,
     "metadata": {},
     "output_type": "execute_result"
    }
   ],
   "source": [
    "dictionary[\"Alice\"]"
   ]
  },
  {
   "cell_type": "code",
   "execution_count": 13,
   "id": "4a3eb501-8f91-44c8-b64c-27af8cbf64e5",
   "metadata": {
    "tags": []
   },
   "outputs": [],
   "source": [
    "dictionary[\"Vedant\"] = 41"
   ]
  },
  {
   "cell_type": "code",
   "execution_count": 16,
   "id": "96b84d4c-40fb-49e6-aaaa-f9f21e131906",
   "metadata": {
    "tags": []
   },
   "outputs": [
    {
     "name": "stdout",
     "output_type": "stream",
     "text": [
      "{'Alice': 20, 'Bob': 65, 'Max': 33, 'Vedant': 41}\n"
     ]
    }
   ],
   "source": [
    "print(dictionary)"
   ]
  },
  {
   "cell_type": "code",
   "execution_count": 20,
   "id": "ddae7645-61d3-4ba8-86b3-a7f901f4e33d",
   "metadata": {
    "tags": []
   },
   "outputs": [
    {
     "data": {
      "text/plain": [
       "[20, 65, 33, 41]"
      ]
     },
     "execution_count": 20,
     "metadata": {},
     "output_type": "execute_result"
    }
   ],
   "source": [
    "l = list(dictionary.values())\n",
    "l"
   ]
  }
 ],
 "metadata": {
  "kernelspec": {
   "display_name": "Python 3",
   "language": "python",
   "name": "python3"
  },
  "language_info": {
   "codemirror_mode": {
    "name": "ipython",
    "version": 3
   },
   "file_extension": ".py",
   "mimetype": "text/x-python",
   "name": "python",
   "nbconvert_exporter": "python",
   "pygments_lexer": "ipython3",
   "version": "3.8.8"
  }
 },
 "nbformat": 4,
 "nbformat_minor": 5
}
