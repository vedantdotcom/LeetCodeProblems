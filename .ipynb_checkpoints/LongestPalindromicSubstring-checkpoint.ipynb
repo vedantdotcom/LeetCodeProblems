{
 "cells": [
  {
   "cell_type": "code",
   "execution_count": 2,
   "id": "9561e760-3bdd-4429-a5a2-6e3d1887a542",
   "metadata": {
    "tags": []
   },
   "outputs": [],
   "source": [
    "s = \"babad\""
   ]
  },
  {
   "cell_type": "code",
   "execution_count": 35,
   "id": "c2f989ef-668a-4b81-8010-e26b10b1a0a6",
   "metadata": {
    "tags": []
   },
   "outputs": [],
   "source": [
    "substrings = []\n",
    "for i in range(0, len(s) + 1):\n",
    "    for j in range(i + 1, len(s) + 1):\n",
    "        string = s[i:j]\n",
    "    \n",
    "        if string in substrings:\n",
    "            pass\n",
    "        else:\n",
    "            substrings.append(string)\n",
    "\n",
    "p_substrings = [x for x in substrings if x == x[::-1]]\n",
    "max_length = max(len(x) for x in p_substrings)\n",
    "max_p_substrings = [x for x in p_substrings if len(x) == max_length] \n",
    "longest_p = max_p_substrings[0]\n"
   ]
  },
  {
   "cell_type": "code",
   "execution_count": 16,
   "id": "71734110-e79d-4a57-b10c-dafad7426ce3",
   "metadata": {
    "tags": []
   },
   "outputs": [
    {
     "data": {
      "text/plain": [
       "['b', 'ba', 'bab', 'baba', 'babad', 'a', 'ab', 'aba', 'abad', 'bad', 'ad', 'd']"
      ]
     },
     "execution_count": 16,
     "metadata": {},
     "output_type": "execute_result"
    }
   ],
   "source": [
    "substrings"
   ]
  },
  {
   "cell_type": "code",
   "execution_count": 24,
   "id": "e63fc68c-6c6b-48bb-80bf-1dbe20f5f1ac",
   "metadata": {
    "tags": []
   },
   "outputs": [],
   "source": [
    "class Solution:\n",
    "    def longestPalindrome(self, s: str) -> str:    \n",
    "        substrings = []\n",
    "        \n",
    "        for i in range(0, len(s) + 1):\n",
    "            for j in range(i + 1, len(s) + 1):\n",
    "                string = s[i:j]\n",
    "    \n",
    "                if string in substrings:\n",
    "                    pass\n",
    "                else:\n",
    "                    substrings.append(string)\n",
    "\n",
    "        p_substrings = [x for x in substrings if x == x[::-1]]\n",
    "        max_length = max(len(x) for x in p_substrings)\n",
    "        max_p_substrings = [x for x in p_substrings if len(x) == max_length] \n",
    "        longest_p = max_p_substrings[0]\n",
    "        \n",
    "        return longest_p\n",
    "        print(longest_p)\n",
    " "
   ]
  },
  {
   "cell_type": "code",
   "execution_count": 28,
   "id": "eabe3e7f-fca2-4611-a56a-4531815b2bd4",
   "metadata": {
    "tags": []
   },
   "outputs": [
    {
     "data": {
      "text/plain": [
       "3"
      ]
     },
     "execution_count": 28,
     "metadata": {},
     "output_type": "execute_result"
    }
   ],
   "source": []
  }
 ],
 "metadata": {
  "kernelspec": {
   "display_name": "Python 3",
   "language": "python",
   "name": "python3"
  },
  "language_info": {
   "codemirror_mode": {
    "name": "ipython",
    "version": 3
   },
   "file_extension": ".py",
   "mimetype": "text/x-python",
   "name": "python",
   "nbconvert_exporter": "python",
   "pygments_lexer": "ipython3",
   "version": "3.8.8"
  }
 },
 "nbformat": 4,
 "nbformat_minor": 5
}
